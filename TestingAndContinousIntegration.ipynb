{
 "cells": [
  {
   "cell_type": "markdown",
   "metadata": {},
   "source": [
    "# Automated Tesing & Continuous Integration\n",
    "\n",
    "When writing software, especially scientific software, a key question is whether the code is correct, and provably correct. How do we check correctness? We test.\n",
    "\n",
    "Lets have a concrete example. We'll look for solutions to the quadratic equation\n",
    "$$ ax^2 + bx + c =0,$$\n",
    "where $x$ is a real number. The formula for solutions is\n",
    "$$ x=\\frac{-b \\pm \\sqrt{b^2-4ac}}{2a}$$.\n",
    "Now to write some code"
   ]
  },
  {
   "cell_type": "code",
   "execution_count": 1,
   "metadata": {},
   "outputs": [],
   "source": [
    "import numpy as np # for the sqrt function\n",
    "\n",
    "def solve_quadratic(a,b,c):\n",
    "    \"\"\"Solve a quadratic equation ax^2+bx+c=0 in the reals\"\"\"\n",
    "    if 0<b**2-4.0*a*c:\n",
    "        # two solutions\n",
    "        return ((-b-np.sqrt(b**2-4.0*a*c))/(2.0*a),(-b+np.sqrt(b**2-4.0*a*c))/(2.0*a))\n",
    "    elif 0==b**2-4.0*a*c:\n",
    "        # one solution\n",
    "        return -b/(2.0*a)\n",
    "    else:\n",
    "        # no solutions\n",
    "        return None"
   ]
  },
  {
   "cell_type": "markdown",
   "metadata": {},
   "source": [
    "We can try some ad hoc tests:"
   ]
  },
  {
   "cell_type": "code",
   "execution_count": 2,
   "metadata": {},
   "outputs": [
    {
     "data": {
      "text/plain": [
       "True"
      ]
     },
     "execution_count": 2,
     "metadata": {},
     "output_type": "execute_result"
    }
   ],
   "source": [
    "# solve x^2-1=0\n",
    "solve_quadratic(1,0,-1)==(-1.0,1.0)"
   ]
  },
  {
   "cell_type": "code",
   "execution_count": 3,
   "metadata": {},
   "outputs": [
    {
     "data": {
      "text/plain": [
       "True"
      ]
     },
     "execution_count": 3,
     "metadata": {},
     "output_type": "execute_result"
    }
   ],
   "source": [
    "solve_quadratic(1,0,0)==(0.0)"
   ]
  },
  {
   "cell_type": "code",
   "execution_count": 4,
   "metadata": {},
   "outputs": [
    {
     "data": {
      "text/plain": [
       "True"
      ]
     },
     "execution_count": 4,
     "metadata": {},
     "output_type": "execute_result"
    }
   ],
   "source": [
    "solve_quadratic(1,0,1) is None"
   ]
  },
  {
   "cell_type": "markdown",
   "metadata": {},
   "source": [
    "Humans are lazy, so we want to make running tests when the code changes as easy as possible. We roll the tests into a single function, and use the `assert()` function so that it throws an exception if anything goes wrong."
   ]
  },
  {
   "cell_type": "code",
   "execution_count": 5,
   "metadata": {},
   "outputs": [],
   "source": [
    "import foo\n",
    "\n",
    "def test_solve_quadratic():\n",
    "    \n",
    "    assert(foo.solve_quadratic(1,0,-1) == (-1.0,1.0))\n",
    "    assert(foo.solve_quadratic(1,0,0) == (0.0))\n",
    "    assert(foo.solve_quadratic(1,0,1) is None)\n",
    "    \n",
    "test_solve_quadratic()"
   ]
  },
  {
   "cell_type": "code",
   "execution_count": 6,
   "metadata": {},
   "outputs": [],
   "source": [
    "test_solve_quadratic()"
   ]
  },
  {
   "cell_type": "markdown",
   "metadata": {},
   "source": [
    "# The `unittest` module\n",
    "\n",
    "It's still useful to automate things a bit more, so that we can . Python provides an inbuilt `unittest` module, which (with some work) can be used to build a test framework. It introduces the concept of the three stages of a test:\n",
    "1. Set up. We create anything which must already exist for a test to make sense.\n",
    "2. Running. The test itself operates\n",
    "3. Tear down. We clean up anything which won't get dealt with automatically"
   ]
  },
  {
   "cell_type": "markdown",
   "metadata": {},
   "source": [
    "The file `unittest_example.py` contains the following code\n",
    "\n",
    "```python\n",
    "import unittest\n",
    "import foo\n",
    "\n",
    "class TestSolveQuadratic(unittest.TestCase):\n",
    "    def test_solve_quadratic(self):\n",
    "    \n",
    "        self.assertEqual(foo.solve_quadratic(1,0,-1), (-1.0,1.0))\n",
    "        self.assertEqual(foo.solve_quadratic(1,0,0), 0.0 )\n",
    "        self.assertEqual(foo.solve_quadratic(1,0,1), None)\n",
    "   \n",
    "   \n",
    "unittest.main()\n",
    "```\n",
    "        "
   ]
  },
  {
   "cell_type": "code",
   "execution_count": 7,
   "metadata": {},
   "outputs": [
    {
     "name": "stdout",
     "output_type": "stream",
     "text": [
      ".\r\n",
      "----------------------------------------------------------------------\r\n",
      "Ran 1 test in 0.000s\r\n",
      "\r\n",
      "OK\r\n"
     ]
    }
   ],
   "source": [
    "!python3 unittest_example.py"
   ]
  },
  {
   "cell_type": "markdown",
   "metadata": {},
   "source": [
    "The external `pytest` functions simplifies this even further, as well as providing a more informative interface. The file `pytest_example.py` contains the following code\n",
    "\n",
    "```python\n",
    "import foo\n",
    "\n",
    "def test_solve_quadratic():\n",
    "    \n",
    "    assert(foo.solve_quadratic(1,0,-1)==(-1.0,1.0))\n",
    "    assert(foo.solve_quadratic(1,0,0)==0.0)\n",
    "    assert(foo.solve_quadratic(1,0,1) is None)\n",
    "    \n",
    "```"
   ]
  },
  {
   "cell_type": "code",
   "execution_count": 8,
   "metadata": {},
   "outputs": [
    {
     "name": "stdout",
     "output_type": "stream",
     "text": [
      "\u001b[1m============================= test session starts ==============================\u001b[0m\n",
      "platform darwin -- Python 3.6.5, pytest-3.4.0, py-1.5.2, pluggy-0.6.0\n",
      "rootdir: /Users/origimbo/MscASCE/teaching, inifile:\n",
      "plugins: nbval-0.9.1\n",
      "collected 1 item                                                               \u001b[0m\u001b[1m\n",
      "\n",
      "pytest_example.py .\u001b[36m                                                      [100%]\u001b[0m\n",
      "\n",
      "\u001b[32m\u001b[1m=========================== 1 passed in 0.18 seconds ===========================\u001b[0m\n"
     ]
    }
   ],
   "source": [
    "!py.test-3.6 pytest_example.py"
   ]
  },
  {
   "cell_type": "markdown",
   "metadata": {},
   "source": [
    "## Continuous integration\n",
    "\n",
    "Once you have tests, you want to make sure that any public changes to the code don't break them. For code under version control, this means that you want to rerun your test suite on all new public merges, to ensure that the code installs and runs successfully on a fresh system. Continous integration (CI) frameworks tie together version control repositories and test suites so that this happens automatically.\n",
    "\n",
    "As with test frameworks, a large number of CI solutions exist. We will introduce a web-based framework called Travis, which interacts nicely with GitHub.\n",
    "\n",
    "Travis is configured from a file called `.travis.yml` in the root directory of the repository. In this case, the file looks like\n",
    "\n",
    "```yml\n",
    "language: python\n",
    "python:\n",
    "  - \"2.7\"\n",
    "  - \"3.6\"\n",
    "# command to install dependencies\n",
    "install:\n",
    "  - pip install -r requirements.txt\n",
    "# command to run tests on script and regression tests on notebook\n",
    "script: pytest pytest_example.py\n",
    "```\n",
    "\n",
    "Here the first line specifies that we're using python (and thus that travis needs to create a virtual machine running python. The next lines say we want to test python 2.7 as well as python3.6. The `install:` command tells Travis to install extra python packages our code requires using the `pip` package manager. For this repository, our `requirements.txt` file contains only one line:\n",
    "\n",
    "```txt\n",
    "numpy>=13.0\n",
    "```\n",
    "\n",
    "This says that we need a version of `numpy` at 13.0 or more recent."
   ]
  },
  {
   "cell_type": "code",
   "execution_count": null,
   "metadata": {},
   "outputs": [],
   "source": []
  }
 ],
 "metadata": {
  "kernelspec": {
   "display_name": "Python 3",
   "language": "python",
   "name": "python3"
  },
  "language_info": {
   "codemirror_mode": {
    "name": "ipython",
    "version": 3
   },
   "file_extension": ".py",
   "mimetype": "text/x-python",
   "name": "python",
   "nbconvert_exporter": "python",
   "pygments_lexer": "ipython3",
   "version": "3.6.5"
  }
 },
 "nbformat": 4,
 "nbformat_minor": 2
}
